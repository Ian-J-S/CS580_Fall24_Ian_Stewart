{
 "cells": [
  {
   "cell_type": "code",
   "execution_count": null,
   "id": "95d28e75",
   "metadata": {},
   "outputs": [],
   "source": [
    "import csv\n",
    "import numpy as np\n",
    "import matplotlib.pyplot as plt"
   ]
  },
  {
   "cell_type": "code",
   "execution_count": null,
   "id": "c2e1fb5f",
   "metadata": {},
   "outputs": [],
   "source": [
    "# Read CSV data into an array\n",
    "data = []\n",
    "with open('data.csv', 'r') as csvfile:\n",
    "    reader = csv.reader(csvfile)\n",
    "    \n",
    "    # Separate csv data into x and y\n",
    "    for row in reader:\n",
    "        x, y, c = float(row[0]), float(row[1]), int(row[2])\n",
    "        data.append((x, y, c))"
   ]
  },
  {
   "cell_type": "code",
   "execution_count": null,
   "id": "bad8dfcb",
   "metadata": {},
   "outputs": [],
   "source": [
    "# Perceptron heuristic approach\n",
    "\n",
    "# 1d matrix of 2 weights\n",
    "W = np.random.rand(2)\n",
    "# Random bias\n",
    "b = np.random.rand(1)[0]\n",
    "# learning rate\n",
    "r = 0.1\n",
    "\n",
    "print(f'Initial weights {W}')\n",
    "print(f'Initial bias {b}')\n",
    "\n",
    "repeats = 100\n",
    "\n",
    "for repeat in range(repeats):\n",
    "    for (x, y, c) in data:\n",
    "        point = [x, y]\n",
    "        line = np.dot(point, W) + b\n",
    "        # Make a classification based on the prediction\n",
    "        classification = 1 if line >= 0 else 0\n",
    "\n",
    "        # If a point is misclassified\n",
    "        if (classification != c):\n",
    "            if (classification == 0):\n",
    "                b += r\n",
    "                for i in range(len(W)):\n",
    "                    W[i] += r*point[i]\n",
    "            elif (classification == 1):\n",
    "                b -= r\n",
    "                for i in range(len(W)):\n",
    "                    W[i] -= r*point[i]\n",
    "\n",
    "                \n",
    "        # print(classification)\n",
    "\n",
    "print(f'New weights {W}')\n",
    "print(f'New bias {b}')"
   ]
  },
  {
   "cell_type": "code",
   "execution_count": null,
   "id": "329bc5d4",
   "metadata": {},
   "outputs": [],
   "source": [
    "for x, y, c in data:\n",
    "    scatter = plt.scatter(x, y, color='blue' if c == 0 else 'red', edgecolor='k', s=20)\n"
   ]
  },
  {
   "cell_type": "code",
   "execution_count": null,
   "id": "af61ab90",
   "metadata": {},
   "outputs": [],
   "source": []
  }
 ],
 "metadata": {
  "kernelspec": {
   "display_name": "Python 3",
   "language": "python",
   "name": "python3"
  },
  "language_info": {
   "codemirror_mode": {
    "name": "ipython",
    "version": 3
   },
   "file_extension": ".py",
   "mimetype": "text/x-python",
   "name": "python",
   "nbconvert_exporter": "python",
   "pygments_lexer": "ipython3",
   "version": "3.11.2"
  }
 },
 "nbformat": 4,
 "nbformat_minor": 5
}
